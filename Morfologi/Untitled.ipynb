{
 "cells": [
  {
   "cell_type": "code",
   "execution_count": 1,
   "id": "b0ad3246-57ab-48b9-a064-49a69439907f",
   "metadata": {},
   "outputs": [],
   "source": [
    "import cv2\n",
    "import numpy as np\n",
    "\n",
    "# Membaca citra\n",
    "image = cv2.imread('gambar.png', cv2.IMREAD_GRAYSCALE)\n",
    "\n",
    "# Melakukan thresholding untuk menghasilkan citra biner\n",
    "_, binary_image = cv2.threshold(image, 127, 255, cv2.THRESH_BINARY)\n",
    "\n",
    "# Membuat kernel strel line horizontal sudut 0\n",
    "kernel = np.array([[0, 0, 0],\n",
    "                   [1, 1, 1],\n",
    "                   [0, 0, 0]], dtype=np.uint8)\n",
    "\n",
    "# Melakukan dilasi menggunakan kernel yang telah dibuat\n",
    "dilated_image = cv2.dilate(binary_image, kernel, iterations=1)\n",
    "\n",
    "# Melakukan erosi menggunakan kernel yang telah dibuat\n",
    "eroded_image = cv2.erode(binary_image, kernel, iterations=1)\n",
    "\n",
    "# Melakukan opening (erosi diikuti dengan dilasi) menggunakan kernel yang telah dibuat\n",
    "opened_image = cv2.morphologyEx(binary_image, cv2.MORPH_OPEN, kernel)\n",
    "\n",
    "# Melakukan closing (dilasi diikuti dengan erosi) menggunakan kernel yang telah dibuat\n",
    "closed_image = cv2.morphologyEx(binary_image, cv2.MORPH_CLOSE, kernel)\n",
    "\n",
    "# Menampilkan citra asli dan hasil operasi morfologi\n",
    "cv2.imshow('Original Image', binary_image)\n",
    "cv2.imshow('Dilated Image', dilated_image)\n",
    "cv2.imshow('Eroded Image', eroded_image)\n",
    "cv2.imshow('Opened Image', opened_image)\n",
    "cv2.imshow('Closed Image', closed_image)\n",
    "cv2.waitKey(0)\n",
    "cv2.destroyAllWindows()\n"
   ]
  },
  {
   "cell_type": "code",
   "execution_count": null,
   "id": "fd3dbb37-26f0-45e2-a0bc-00a65d4aac8e",
   "metadata": {},
   "outputs": [],
   "source": []
  },
  {
   "cell_type": "code",
   "execution_count": null,
   "id": "b6df4762-5aff-475a-8bf2-e48c0752e6e8",
   "metadata": {},
   "outputs": [],
   "source": []
  }
 ],
 "metadata": {
  "kernelspec": {
   "display_name": "Python 3 (ipykernel)",
   "language": "python",
   "name": "python3"
  },
  "language_info": {
   "codemirror_mode": {
    "name": "ipython",
    "version": 3
   },
   "file_extension": ".py",
   "mimetype": "text/x-python",
   "name": "python",
   "nbconvert_exporter": "python",
   "pygments_lexer": "ipython3",
   "version": "3.9.5"
  }
 },
 "nbformat": 4,
 "nbformat_minor": 5
}
