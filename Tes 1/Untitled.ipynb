{
 "cells": [
  {
   "cell_type": "code",
   "execution_count": null,
   "id": "ae181aee-18f6-428f-8b62-1361ce1e3277",
   "metadata": {},
   "outputs": [],
   "source": [
    "import cv2\n",
    "import numpy as np\n",
    "\n",
    "# Membaca citra\n",
    "image1 = cv2.imread('MU.PNG')\n",
    "\n",
    "# Menentukan matriks transformasi affine untuk translasi\n",
    "dx = 50  # Perubahan horizontal\n",
    "dy = 70  # Perubahan vertikal\n",
    "transformation_matrix = np.float32([[1, 0, dx], [0, 1, dy]])\n",
    "\n",
    "# Melakukan translasi menggunakan warpAffine\n",
    "translated_image = cv2.warpAffine(image1, transformation_matrix, (image1.shape[1], image1.shape[0]))\n",
    "\n",
    "# Menentukan matriks rotasi untuk rotasi 90 derajat\n",
    "rotation_matrix = cv2.getRotationMatrix2D((translated_image.shape[1] / 2, translated_image.shape[0] / 2), 90, 1)\n",
    "\n",
    "# Melakukan rotasi menggunakan warpAffine pada citra yang sudah ditranslasikan\n",
    "rotated_translated_image = cv2.warpAffine(translated_image, rotation_matrix, (translated_image.shape[0], translated_image.shape[1]))\n",
    "\n",
    "# Menentukan matriks refleksi terhadap titik pusat (0,0)\n",
    "reflection_matrix = np.float32([[-1, 0, translated_image.shape[1]], [0, -1, translated_image.shape[0]]])\n",
    "\n",
    "# Melakukan refleksi menggunakan warpAffine pada citra yang sudah ditranslasikan dan dirotasi\n",
    "reflected_image = cv2.warpAffine(rotated_translated_image, reflection_matrix, (rotated_translated_image.shape[1], rotated_translated_image.shape[0]))\n",
    "\n",
    "# Menentukan matriks dilatasi dengan faktor skala 0.3 dan titik pusat (5,5)\n",
    "scale_factor = 0.3\n",
    "center_point = (5, 5)\n",
    "dilation_matrix = np.float32([[scale_factor, 0, center_point[0] * (1 - scale_factor)],\n",
    "                              [0, scale_factor, center_point[1] * (1 - scale_factor)]])\n",
    "\n",
    "# Melakukan dilatasi menggunakan warpAffine pada citra yang sudah ditranslasikan, dirotasi, dan direfleksikan\n",
    "dilated_image = cv2.warpAffine(reflected_image, dilation_matrix, (reflected_image.shape[1], reflected_image.shape[0]))\n",
    "\n",
    "# Menampilkan citra asli, citra yang sudah ditranslasikan, citra yang sudah ditranslasikan dan dirotasi, \n",
    "# citra yang sudah ditranslasikan, dirotasi, dan direfleksikan, dan citra yang sudah ditranslasikan, dirotasi, direfleksikan, dan dilatasi\n",
    "cv2.imshow('Original Image', image1)\n",
    "cv2.imshow('Translated Image', translated_image)\n",
    "cv2.imshow('Translated and Rotated Image', rotated_translated_image)\n",
    "cv2.imshow('Translated, Rotated, and Reflected Image', reflected_image)\n",
    "cv2.imshow('Translated, Rotated, Reflected, and Dilated Image', dilated_image)\n",
    "cv2.waitKey(0)\n",
    "cv2.destroyAllWindows()\n"
   ]
  },
  {
   "cell_type": "code",
   "execution_count": null,
   "id": "6385052c-ab64-477d-bdf3-767cccdb20ae",
   "metadata": {},
   "outputs": [],
   "source": []
  },
  {
   "cell_type": "code",
   "execution_count": null,
   "id": "9655d123-68cb-4da1-bf8b-9acb2680f83a",
   "metadata": {},
   "outputs": [],
   "source": []
  }
 ],
 "metadata": {
  "kernelspec": {
   "display_name": "Python 3 (ipykernel)",
   "language": "python",
   "name": "python3"
  },
  "language_info": {
   "codemirror_mode": {
    "name": "ipython",
    "version": 3
   },
   "file_extension": ".py",
   "mimetype": "text/x-python",
   "name": "python",
   "nbconvert_exporter": "python",
   "pygments_lexer": "ipython3",
   "version": "3.9.5"
  }
 },
 "nbformat": 4,
 "nbformat_minor": 5
}
