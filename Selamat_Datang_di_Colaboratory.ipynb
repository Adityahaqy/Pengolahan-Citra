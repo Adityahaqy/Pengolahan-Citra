{
  "cells": [
    {
      "cell_type": "markdown",
      "metadata": {
        "id": "view-in-github",
        "colab_type": "text"
      },
      "source": [
        "<a href=\"https://colab.research.google.com/github/Adityahaqy/Pengolahan-Citra/blob/main/Selamat_Datang_di_Colaboratory.ipynb\" target=\"_parent\"><img src=\"https://colab.research.google.com/assets/colab-badge.svg\" alt=\"Open In Colab\"/></a>"
      ]
    },
    {
      "cell_type": "code",
      "source": [
        "while True:\n",
        "    password = input(\"program pembayaran\\n\\npassword:\\n\")\n",
        "    if password == \"adit\":\n",
        "        print(\"password benar\")\n",
        "        break\n",
        "    else:\n",
        "        print(\"password salah, coba lagi\")\n",
        "print(\"terimakasih\")\n"
      ],
      "metadata": {
        "colab": {
          "base_uri": "https://localhost:8080/"
        },
        "id": "qyPOvIhq5IK2",
        "outputId": "3cdfee78-f7f1-4c35-bf93-4f2559866b58"
      },
      "execution_count": 4,
      "outputs": [
        {
          "output_type": "stream",
          "name": "stdout",
          "text": [
            "program pembayaran\n",
            "\n",
            "password:\n",
            "haqy\n",
            "password salah, coba lagi\n",
            "program pembayaran\n",
            "\n",
            "password:\n",
            "adit\n",
            "password benar\n",
            "terimakasih\n"
          ]
        }
      ]
    }
  ],
  "metadata": {
    "colab": {
      "name": "Selamat Datang di Colaboratory",
      "toc_visible": true,
      "provenance": [],
      "include_colab_link": true
    },
    "kernelspec": {
      "display_name": "Python 3",
      "name": "python3"
    }
  },
  "nbformat": 4,
  "nbformat_minor": 0
}